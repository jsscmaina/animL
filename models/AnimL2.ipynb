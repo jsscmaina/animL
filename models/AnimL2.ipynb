{
 "cells": [
  {
   "cell_type": "code",
   "execution_count": 1,
   "metadata": {},
   "outputs": [],
   "source": [
    "import pandas as pd\n",
    "import numpy as np\n",
    "from collections import defaultdict\n",
    "from sklearn import pipeline,preprocessing,metrics,model_selection,ensemble, tree\n",
    "from sklearn_pandas import DataFrameMapper\n",
    "from sklearn.impute import SimpleImputer\n",
    "from sklearn.model_selection import train_test_split\n",
    "from sklearn.preprocessing import LabelEncoder, OneHotEncoder\n",
    "\n",
    "from sklearn.naive_bayes import MultinomialNB\n",
    "from sklearn.tree import DecisionTreeClassifier, export_graphviz\n",
    "from sklearn.ensemble import RandomForestClassifier\n",
    "\n",
    "# !pip install graphviz"
   ]
  },
  {
   "cell_type": "code",
   "execution_count": 2,
   "metadata": {},
   "outputs": [],
   "source": [
    "data=pd.read_csv('animal_symptoms.csv')"
   ]
  },
  {
   "cell_type": "code",
   "execution_count": 3,
   "metadata": {},
   "outputs": [],
   "source": [
    "data.disease = data.disease.fillna(method=\"ffill\")"
   ]
  },
  {
   "cell_type": "code",
   "execution_count": 4,
   "metadata": {},
   "outputs": [
    {
     "output_type": "execute_result",
     "data": {
      "text/plain": [
       "                     disease                 symptom\n",
       "0                      bloat  distended left abdomen\n",
       "1                      bloat              discomfort\n",
       "2                      bloat               bellowing\n",
       "3  bovine viral diarrhea BVD                   fever\n",
       "4  bovine viral diarrhea BVD                lethargy"
      ],
      "text/html": "<div>\n<style scoped>\n    .dataframe tbody tr th:only-of-type {\n        vertical-align: middle;\n    }\n\n    .dataframe tbody tr th {\n        vertical-align: top;\n    }\n\n    .dataframe thead th {\n        text-align: right;\n    }\n</style>\n<table border=\"1\" class=\"dataframe\">\n  <thead>\n    <tr style=\"text-align: right;\">\n      <th></th>\n      <th>disease</th>\n      <th>symptom</th>\n    </tr>\n  </thead>\n  <tbody>\n    <tr>\n      <th>0</th>\n      <td>bloat</td>\n      <td>distended left abdomen</td>\n    </tr>\n    <tr>\n      <th>1</th>\n      <td>bloat</td>\n      <td>discomfort</td>\n    </tr>\n    <tr>\n      <th>2</th>\n      <td>bloat</td>\n      <td>bellowing</td>\n    </tr>\n    <tr>\n      <th>3</th>\n      <td>bovine viral diarrhea BVD</td>\n      <td>fever</td>\n    </tr>\n    <tr>\n      <th>4</th>\n      <td>bovine viral diarrhea BVD</td>\n      <td>lethargy</td>\n    </tr>\n  </tbody>\n</table>\n</div>"
     },
     "metadata": {},
     "execution_count": 4
    }
   ],
   "source": [
    "data.head()"
   ]
  },
  {
   "cell_type": "code",
   "execution_count": 5,
   "metadata": {},
   "outputs": [
    {
     "output_type": "execute_result",
     "data": {
      "text/plain": [
       "68"
      ]
     },
     "metadata": {},
     "execution_count": 5
    }
   ],
   "source": [
    "n_unique = len(data['symptom'].unique())\n",
    "n_unique"
   ]
  },
  {
   "cell_type": "code",
   "execution_count": 6,
   "metadata": {},
   "outputs": [
    {
     "output_type": "stream",
     "name": "stdout",
     "text": [
      "[19 18  3 21 33 34 37 36 38 16 13  0 55 66 50 61 32  8 63 21  5  6 13 67\n 34 22 30 31 28 13 14 46 51 24  4 53 15 34 21 29 27 52 20  0 55  7 13 46\n  1 16 47  5 59 25 45 65  9 13 34 48  0 54 10 43 10 41 21 57 44 17 30 11\n 39 40 42 56  3  4 35 49 36 60 26 58 64 59 62 21 52 21 29 23 12  2 15]\n"
     ]
    }
   ],
   "source": [
    "le = LabelEncoder()\n",
    "binarized = le.fit_transform(data['symptom'])\n",
    "print(binarized)"
   ]
  },
  {
   "cell_type": "code",
   "execution_count": 7,
   "metadata": {},
   "outputs": [
    {
     "output_type": "stream",
     "name": "stdout",
     "text": [
      "[[0. 0. 0. ... 0. 0. 0.]\n [0. 0. 0. ... 0. 0. 0.]\n [0. 0. 0. ... 0. 0. 0.]\n ...\n [0. 0. 0. ... 0. 0. 0.]\n [0. 0. 1. ... 0. 0. 0.]\n [0. 0. 0. ... 0. 0. 0.]]\n"
     ]
    }
   ],
   "source": [
    "oe = OneHotEncoder(sparse=False)\n",
    "binarized = binarized.reshape(len(binarized), 1)\n",
    "onehot_encoded = oe.fit_transform(binarized)\n",
    "print(onehot_encoded)"
   ]
  },
  {
   "cell_type": "code",
   "execution_count": 8,
   "metadata": {},
   "outputs": [
    {
     "output_type": "execute_result",
     "data": {
      "text/plain": [
       "68"
      ]
     },
     "metadata": {},
     "execution_count": 8
    }
   ],
   "source": [
    "len(onehot_encoded[0])"
   ]
  },
  {
   "cell_type": "code",
   "execution_count": 9,
   "metadata": {},
   "outputs": [
    {
     "output_type": "execute_result",
     "data": {
      "text/plain": [
       "array(['distended left abdomen', 'discomfort', 'bellowing', 'fever',\n",
       "       'lethargy', 'loss of appetite', 'ocular discharge',\n",
       "       'nasal discharge', 'oral lesions', 'diarrhea',\n",
       "       'decreasing milk production', 'abortion', 'stillborn', 'weak calf',\n",
       "       'retention of fetal membrane', 'swollen testicles',\n",
       "       'lesions on skin', 'bold plaques', 'tufts of hair coming off',\n",
       "       'blisters in the mouth', 'blisters on feet', 'weight loss',\n",
       "       'frothing of mouth', 'lameness', 'late abortion', 'jaundice',\n",
       "       'depressed appetite', 'reduced fertility', 'rubbing', 'hair loss',\n",
       "       'biting', 'scratching', 'depression', 'lack of coordination',\n",
       "       'isolation from herd', 'salivation', 'facial paralysis',\n",
       "       'blood poisoning', 'anaemia', 'reduced live weight gain',\n",
       "       'swelling in udders', 'hardness of udders',\n",
       "       'redness or pain in udders', 'watery milk', 'clots in milk',\n",
       "       'reduction in mobility', 'stillbirth', 'coughing', 'pus from nose',\n",
       "       'progressive loss of condition', 'suspended rumination',\n",
       "       'rapid heart rates', 'difficulty breathing',\n",
       "       'crepitation swelling', 'painful swelling', 'painless swelling',\n",
       "       'prostration', 'strange behaviour', 'mounting others',\n",
       "       'restlessness', 'swelling of head and neck',\n",
       "       'inflammation of the eyes', 'swelling in mouth', 'ulcers in mouth',\n",
       "       'tiredness', 'grinding teeth', 'dark coloured urine', 'anorexia'],\n",
       "      dtype=object)"
      ]
     },
     "metadata": {},
     "execution_count": 9
    }
   ],
   "source": [
    "cols = np.array(data['symptom'].unique())\n",
    "cols"
   ]
  },
  {
   "cell_type": "code",
   "execution_count": 10,
   "metadata": {},
   "outputs": [
    {
     "output_type": "execute_result",
     "data": {
      "text/plain": [
       "Empty DataFrame\n",
       "Columns: [distended left abdomen, discomfort, bellowing, fever, lethargy, loss of appetite, ocular discharge, nasal discharge, oral lesions, diarrhea, decreasing milk production, abortion, stillborn, weak calf, retention of fetal membrane, swollen testicles, lesions on skin, bold plaques, tufts of hair coming off, blisters in the mouth, blisters on feet, weight loss, frothing of mouth, lameness, late abortion, jaundice, depressed appetite, reduced fertility, rubbing, hair loss, biting, scratching, depression, lack of coordination, isolation from herd, salivation, facial paralysis, blood poisoning, anaemia, reduced live weight gain, swelling in udders, hardness of udders, redness or pain in udders, watery milk, clots in milk, reduction in mobility, stillbirth, coughing, pus from nose, progressive loss of condition, suspended rumination, rapid heart rates, difficulty breathing, crepitation swelling, painful swelling, painless swelling, prostration, strange behaviour, mounting others, restlessness, swelling of head and neck, inflammation of the eyes, swelling in mouth, ulcers in mouth, tiredness, grinding teeth, dark coloured urine, anorexia]\n",
       "Index: []\n",
       "\n",
       "[0 rows x 68 columns]"
      ],
      "text/html": "<div>\n<style scoped>\n    .dataframe tbody tr th:only-of-type {\n        vertical-align: middle;\n    }\n\n    .dataframe tbody tr th {\n        vertical-align: top;\n    }\n\n    .dataframe thead th {\n        text-align: right;\n    }\n</style>\n<table border=\"1\" class=\"dataframe\">\n  <thead>\n    <tr style=\"text-align: right;\">\n      <th></th>\n      <th>distended left abdomen</th>\n      <th>discomfort</th>\n      <th>bellowing</th>\n      <th>fever</th>\n      <th>lethargy</th>\n      <th>loss of appetite</th>\n      <th>ocular discharge</th>\n      <th>nasal discharge</th>\n      <th>oral lesions</th>\n      <th>diarrhea</th>\n      <th>...</th>\n      <th>mounting others</th>\n      <th>restlessness</th>\n      <th>swelling of head and neck</th>\n      <th>inflammation of the eyes</th>\n      <th>swelling in mouth</th>\n      <th>ulcers in mouth</th>\n      <th>tiredness</th>\n      <th>grinding teeth</th>\n      <th>dark coloured urine</th>\n      <th>anorexia</th>\n    </tr>\n  </thead>\n  <tbody>\n  </tbody>\n</table>\n<p>0 rows × 68 columns</p>\n</div>"
     },
     "metadata": {},
     "execution_count": 10
    }
   ],
   "source": [
    "df_ohe = pd.DataFrame(columns=cols)\n",
    "df_ohe.head()"
   ]
  },
  {
   "cell_type": "code",
   "execution_count": 11,
   "metadata": {},
   "outputs": [],
   "source": [
    "for i in range(len(onehot_encoded)):\n",
    "    df_ohe.loc[i] = onehot_encoded[i]"
   ]
  },
  {
   "cell_type": "code",
   "execution_count": 12,
   "metadata": {},
   "outputs": [
    {
     "output_type": "execute_result",
     "data": {
      "text/plain": [
       "   distended left abdomen  discomfort  bellowing  fever  lethargy  \\\n",
       "0                     0.0         0.0        0.0    0.0       0.0   \n",
       "1                     0.0         0.0        0.0    0.0       0.0   \n",
       "2                     0.0         0.0        0.0    1.0       0.0   \n",
       "3                     0.0         0.0        0.0    0.0       0.0   \n",
       "4                     0.0         0.0        0.0    0.0       0.0   \n",
       "\n",
       "   loss of appetite  ocular discharge  nasal discharge  oral lesions  \\\n",
       "0               0.0               0.0              0.0           0.0   \n",
       "1               0.0               0.0              0.0           0.0   \n",
       "2               0.0               0.0              0.0           0.0   \n",
       "3               0.0               0.0              0.0           0.0   \n",
       "4               0.0               0.0              0.0           0.0   \n",
       "\n",
       "   diarrhea  ...  mounting others  restlessness  swelling of head and neck  \\\n",
       "0       0.0  ...              0.0           0.0                        0.0   \n",
       "1       0.0  ...              0.0           0.0                        0.0   \n",
       "2       0.0  ...              0.0           0.0                        0.0   \n",
       "3       0.0  ...              0.0           0.0                        0.0   \n",
       "4       0.0  ...              0.0           0.0                        0.0   \n",
       "\n",
       "   inflammation of the eyes  swelling in mouth  ulcers in mouth  tiredness  \\\n",
       "0                       0.0                0.0              0.0        0.0   \n",
       "1                       0.0                0.0              0.0        0.0   \n",
       "2                       0.0                0.0              0.0        0.0   \n",
       "3                       0.0                0.0              0.0        0.0   \n",
       "4                       0.0                0.0              0.0        0.0   \n",
       "\n",
       "   grinding teeth  dark coloured urine  anorexia  \n",
       "0             0.0                  0.0       0.0  \n",
       "1             0.0                  0.0       0.0  \n",
       "2             0.0                  0.0       0.0  \n",
       "3             0.0                  0.0       0.0  \n",
       "4             0.0                  0.0       0.0  \n",
       "\n",
       "[5 rows x 68 columns]"
      ],
      "text/html": "<div>\n<style scoped>\n    .dataframe tbody tr th:only-of-type {\n        vertical-align: middle;\n    }\n\n    .dataframe tbody tr th {\n        vertical-align: top;\n    }\n\n    .dataframe thead th {\n        text-align: right;\n    }\n</style>\n<table border=\"1\" class=\"dataframe\">\n  <thead>\n    <tr style=\"text-align: right;\">\n      <th></th>\n      <th>distended left abdomen</th>\n      <th>discomfort</th>\n      <th>bellowing</th>\n      <th>fever</th>\n      <th>lethargy</th>\n      <th>loss of appetite</th>\n      <th>ocular discharge</th>\n      <th>nasal discharge</th>\n      <th>oral lesions</th>\n      <th>diarrhea</th>\n      <th>...</th>\n      <th>mounting others</th>\n      <th>restlessness</th>\n      <th>swelling of head and neck</th>\n      <th>inflammation of the eyes</th>\n      <th>swelling in mouth</th>\n      <th>ulcers in mouth</th>\n      <th>tiredness</th>\n      <th>grinding teeth</th>\n      <th>dark coloured urine</th>\n      <th>anorexia</th>\n    </tr>\n  </thead>\n  <tbody>\n    <tr>\n      <th>0</th>\n      <td>0.0</td>\n      <td>0.0</td>\n      <td>0.0</td>\n      <td>0.0</td>\n      <td>0.0</td>\n      <td>0.0</td>\n      <td>0.0</td>\n      <td>0.0</td>\n      <td>0.0</td>\n      <td>0.0</td>\n      <td>...</td>\n      <td>0.0</td>\n      <td>0.0</td>\n      <td>0.0</td>\n      <td>0.0</td>\n      <td>0.0</td>\n      <td>0.0</td>\n      <td>0.0</td>\n      <td>0.0</td>\n      <td>0.0</td>\n      <td>0.0</td>\n    </tr>\n    <tr>\n      <th>1</th>\n      <td>0.0</td>\n      <td>0.0</td>\n      <td>0.0</td>\n      <td>0.0</td>\n      <td>0.0</td>\n      <td>0.0</td>\n      <td>0.0</td>\n      <td>0.0</td>\n      <td>0.0</td>\n      <td>0.0</td>\n      <td>...</td>\n      <td>0.0</td>\n      <td>0.0</td>\n      <td>0.0</td>\n      <td>0.0</td>\n      <td>0.0</td>\n      <td>0.0</td>\n      <td>0.0</td>\n      <td>0.0</td>\n      <td>0.0</td>\n      <td>0.0</td>\n    </tr>\n    <tr>\n      <th>2</th>\n      <td>0.0</td>\n      <td>0.0</td>\n      <td>0.0</td>\n      <td>1.0</td>\n      <td>0.0</td>\n      <td>0.0</td>\n      <td>0.0</td>\n      <td>0.0</td>\n      <td>0.0</td>\n      <td>0.0</td>\n      <td>...</td>\n      <td>0.0</td>\n      <td>0.0</td>\n      <td>0.0</td>\n      <td>0.0</td>\n      <td>0.0</td>\n      <td>0.0</td>\n      <td>0.0</td>\n      <td>0.0</td>\n      <td>0.0</td>\n      <td>0.0</td>\n    </tr>\n    <tr>\n      <th>3</th>\n      <td>0.0</td>\n      <td>0.0</td>\n      <td>0.0</td>\n      <td>0.0</td>\n      <td>0.0</td>\n      <td>0.0</td>\n      <td>0.0</td>\n      <td>0.0</td>\n      <td>0.0</td>\n      <td>0.0</td>\n      <td>...</td>\n      <td>0.0</td>\n      <td>0.0</td>\n      <td>0.0</td>\n      <td>0.0</td>\n      <td>0.0</td>\n      <td>0.0</td>\n      <td>0.0</td>\n      <td>0.0</td>\n      <td>0.0</td>\n      <td>0.0</td>\n    </tr>\n    <tr>\n      <th>4</th>\n      <td>0.0</td>\n      <td>0.0</td>\n      <td>0.0</td>\n      <td>0.0</td>\n      <td>0.0</td>\n      <td>0.0</td>\n      <td>0.0</td>\n      <td>0.0</td>\n      <td>0.0</td>\n      <td>0.0</td>\n      <td>...</td>\n      <td>0.0</td>\n      <td>0.0</td>\n      <td>0.0</td>\n      <td>0.0</td>\n      <td>0.0</td>\n      <td>0.0</td>\n      <td>0.0</td>\n      <td>0.0</td>\n      <td>0.0</td>\n      <td>0.0</td>\n    </tr>\n  </tbody>\n</table>\n<p>5 rows × 68 columns</p>\n</div>"
     },
     "metadata": {},
     "execution_count": 12
    }
   ],
   "source": [
    "df_ohe.head()"
   ]
  },
  {
   "cell_type": "code",
   "execution_count": 13,
   "metadata": {},
   "outputs": [
    {
     "output_type": "execute_result",
     "data": {
      "text/plain": [
       "95"
      ]
     },
     "metadata": {},
     "execution_count": 13
    }
   ],
   "source": [
    "len(df_ohe)"
   ]
  },
  {
   "cell_type": "code",
   "execution_count": 14,
   "metadata": {},
   "outputs": [
    {
     "output_type": "execute_result",
     "data": {
      "text/plain": [
       "0                        bloat\n",
       "1                        bloat\n",
       "2                        bloat\n",
       "3    bovine viral diarrhea BVD\n",
       "4    bovine viral diarrhea BVD\n",
       "Name: disease, dtype: object"
      ]
     },
     "metadata": {},
     "execution_count": 14
    }
   ],
   "source": [
    "df_disease = data['disease']\n",
    "df_disease.head()"
   ]
  },
  {
   "cell_type": "code",
   "execution_count": 15,
   "metadata": {},
   "outputs": [
    {
     "output_type": "execute_result",
     "data": {
      "text/plain": [
       "                     disease  distended left abdomen  discomfort  bellowing  \\\n",
       "0                      bloat                     0.0         0.0        0.0   \n",
       "1                      bloat                     0.0         0.0        0.0   \n",
       "2                      bloat                     0.0         0.0        0.0   \n",
       "3  bovine viral diarrhea BVD                     0.0         0.0        0.0   \n",
       "4  bovine viral diarrhea BVD                     0.0         0.0        0.0   \n",
       "\n",
       "   fever  lethargy  loss of appetite  ocular discharge  nasal discharge  \\\n",
       "0    0.0       0.0               0.0               0.0              0.0   \n",
       "1    0.0       0.0               0.0               0.0              0.0   \n",
       "2    1.0       0.0               0.0               0.0              0.0   \n",
       "3    0.0       0.0               0.0               0.0              0.0   \n",
       "4    0.0       0.0               0.0               0.0              0.0   \n",
       "\n",
       "   oral lesions  ...  mounting others  restlessness  \\\n",
       "0           0.0  ...              0.0           0.0   \n",
       "1           0.0  ...              0.0           0.0   \n",
       "2           0.0  ...              0.0           0.0   \n",
       "3           0.0  ...              0.0           0.0   \n",
       "4           0.0  ...              0.0           0.0   \n",
       "\n",
       "   swelling of head and neck  inflammation of the eyes  swelling in mouth  \\\n",
       "0                        0.0                       0.0                0.0   \n",
       "1                        0.0                       0.0                0.0   \n",
       "2                        0.0                       0.0                0.0   \n",
       "3                        0.0                       0.0                0.0   \n",
       "4                        0.0                       0.0                0.0   \n",
       "\n",
       "   ulcers in mouth  tiredness  grinding teeth  dark coloured urine  anorexia  \n",
       "0              0.0        0.0             0.0                  0.0       0.0  \n",
       "1              0.0        0.0             0.0                  0.0       0.0  \n",
       "2              0.0        0.0             0.0                  0.0       0.0  \n",
       "3              0.0        0.0             0.0                  0.0       0.0  \n",
       "4              0.0        0.0             0.0                  0.0       0.0  \n",
       "\n",
       "[5 rows x 69 columns]"
      ],
      "text/html": "<div>\n<style scoped>\n    .dataframe tbody tr th:only-of-type {\n        vertical-align: middle;\n    }\n\n    .dataframe tbody tr th {\n        vertical-align: top;\n    }\n\n    .dataframe thead th {\n        text-align: right;\n    }\n</style>\n<table border=\"1\" class=\"dataframe\">\n  <thead>\n    <tr style=\"text-align: right;\">\n      <th></th>\n      <th>disease</th>\n      <th>distended left abdomen</th>\n      <th>discomfort</th>\n      <th>bellowing</th>\n      <th>fever</th>\n      <th>lethargy</th>\n      <th>loss of appetite</th>\n      <th>ocular discharge</th>\n      <th>nasal discharge</th>\n      <th>oral lesions</th>\n      <th>...</th>\n      <th>mounting others</th>\n      <th>restlessness</th>\n      <th>swelling of head and neck</th>\n      <th>inflammation of the eyes</th>\n      <th>swelling in mouth</th>\n      <th>ulcers in mouth</th>\n      <th>tiredness</th>\n      <th>grinding teeth</th>\n      <th>dark coloured urine</th>\n      <th>anorexia</th>\n    </tr>\n  </thead>\n  <tbody>\n    <tr>\n      <th>0</th>\n      <td>bloat</td>\n      <td>0.0</td>\n      <td>0.0</td>\n      <td>0.0</td>\n      <td>0.0</td>\n      <td>0.0</td>\n      <td>0.0</td>\n      <td>0.0</td>\n      <td>0.0</td>\n      <td>0.0</td>\n      <td>...</td>\n      <td>0.0</td>\n      <td>0.0</td>\n      <td>0.0</td>\n      <td>0.0</td>\n      <td>0.0</td>\n      <td>0.0</td>\n      <td>0.0</td>\n      <td>0.0</td>\n      <td>0.0</td>\n      <td>0.0</td>\n    </tr>\n    <tr>\n      <th>1</th>\n      <td>bloat</td>\n      <td>0.0</td>\n      <td>0.0</td>\n      <td>0.0</td>\n      <td>0.0</td>\n      <td>0.0</td>\n      <td>0.0</td>\n      <td>0.0</td>\n      <td>0.0</td>\n      <td>0.0</td>\n      <td>...</td>\n      <td>0.0</td>\n      <td>0.0</td>\n      <td>0.0</td>\n      <td>0.0</td>\n      <td>0.0</td>\n      <td>0.0</td>\n      <td>0.0</td>\n      <td>0.0</td>\n      <td>0.0</td>\n      <td>0.0</td>\n    </tr>\n    <tr>\n      <th>2</th>\n      <td>bloat</td>\n      <td>0.0</td>\n      <td>0.0</td>\n      <td>0.0</td>\n      <td>1.0</td>\n      <td>0.0</td>\n      <td>0.0</td>\n      <td>0.0</td>\n      <td>0.0</td>\n      <td>0.0</td>\n      <td>...</td>\n      <td>0.0</td>\n      <td>0.0</td>\n      <td>0.0</td>\n      <td>0.0</td>\n      <td>0.0</td>\n      <td>0.0</td>\n      <td>0.0</td>\n      <td>0.0</td>\n      <td>0.0</td>\n      <td>0.0</td>\n    </tr>\n    <tr>\n      <th>3</th>\n      <td>bovine viral diarrhea BVD</td>\n      <td>0.0</td>\n      <td>0.0</td>\n      <td>0.0</td>\n      <td>0.0</td>\n      <td>0.0</td>\n      <td>0.0</td>\n      <td>0.0</td>\n      <td>0.0</td>\n      <td>0.0</td>\n      <td>...</td>\n      <td>0.0</td>\n      <td>0.0</td>\n      <td>0.0</td>\n      <td>0.0</td>\n      <td>0.0</td>\n      <td>0.0</td>\n      <td>0.0</td>\n      <td>0.0</td>\n      <td>0.0</td>\n      <td>0.0</td>\n    </tr>\n    <tr>\n      <th>4</th>\n      <td>bovine viral diarrhea BVD</td>\n      <td>0.0</td>\n      <td>0.0</td>\n      <td>0.0</td>\n      <td>0.0</td>\n      <td>0.0</td>\n      <td>0.0</td>\n      <td>0.0</td>\n      <td>0.0</td>\n      <td>0.0</td>\n      <td>...</td>\n      <td>0.0</td>\n      <td>0.0</td>\n      <td>0.0</td>\n      <td>0.0</td>\n      <td>0.0</td>\n      <td>0.0</td>\n      <td>0.0</td>\n      <td>0.0</td>\n      <td>0.0</td>\n      <td>0.0</td>\n    </tr>\n  </tbody>\n</table>\n<p>5 rows × 69 columns</p>\n</div>"
     },
     "metadata": {},
     "execution_count": 15
    }
   ],
   "source": [
    "df_concat = pd.concat([df_disease,df_ohe], axis=1)\n",
    "df_concat.head()"
   ]
  },
  {
   "cell_type": "code",
   "execution_count": 16,
   "metadata": {},
   "outputs": [],
   "source": [
    "df_concat.drop_duplicates(keep='first', inplace=True)"
   ]
  },
  {
   "cell_type": "code",
   "execution_count": 17,
   "metadata": {},
   "outputs": [
    {
     "output_type": "execute_result",
     "data": {
      "text/plain": [
       "                     disease  distended left abdomen  discomfort  bellowing  \\\n",
       "0                      bloat                     0.0         0.0        0.0   \n",
       "1                      bloat                     0.0         0.0        0.0   \n",
       "2                      bloat                     0.0         0.0        0.0   \n",
       "3  bovine viral diarrhea BVD                     0.0         0.0        0.0   \n",
       "4  bovine viral diarrhea BVD                     0.0         0.0        0.0   \n",
       "\n",
       "   fever  lethargy  loss of appetite  ocular discharge  nasal discharge  \\\n",
       "0    0.0       0.0               0.0               0.0              0.0   \n",
       "1    0.0       0.0               0.0               0.0              0.0   \n",
       "2    1.0       0.0               0.0               0.0              0.0   \n",
       "3    0.0       0.0               0.0               0.0              0.0   \n",
       "4    0.0       0.0               0.0               0.0              0.0   \n",
       "\n",
       "   oral lesions  ...  mounting others  restlessness  \\\n",
       "0           0.0  ...              0.0           0.0   \n",
       "1           0.0  ...              0.0           0.0   \n",
       "2           0.0  ...              0.0           0.0   \n",
       "3           0.0  ...              0.0           0.0   \n",
       "4           0.0  ...              0.0           0.0   \n",
       "\n",
       "   swelling of head and neck  inflammation of the eyes  swelling in mouth  \\\n",
       "0                        0.0                       0.0                0.0   \n",
       "1                        0.0                       0.0                0.0   \n",
       "2                        0.0                       0.0                0.0   \n",
       "3                        0.0                       0.0                0.0   \n",
       "4                        0.0                       0.0                0.0   \n",
       "\n",
       "   ulcers in mouth  tiredness  grinding teeth  dark coloured urine  anorexia  \n",
       "0              0.0        0.0             0.0                  0.0       0.0  \n",
       "1              0.0        0.0             0.0                  0.0       0.0  \n",
       "2              0.0        0.0             0.0                  0.0       0.0  \n",
       "3              0.0        0.0             0.0                  0.0       0.0  \n",
       "4              0.0        0.0             0.0                  0.0       0.0  \n",
       "\n",
       "[5 rows x 69 columns]"
      ],
      "text/html": "<div>\n<style scoped>\n    .dataframe tbody tr th:only-of-type {\n        vertical-align: middle;\n    }\n\n    .dataframe tbody tr th {\n        vertical-align: top;\n    }\n\n    .dataframe thead th {\n        text-align: right;\n    }\n</style>\n<table border=\"1\" class=\"dataframe\">\n  <thead>\n    <tr style=\"text-align: right;\">\n      <th></th>\n      <th>disease</th>\n      <th>distended left abdomen</th>\n      <th>discomfort</th>\n      <th>bellowing</th>\n      <th>fever</th>\n      <th>lethargy</th>\n      <th>loss of appetite</th>\n      <th>ocular discharge</th>\n      <th>nasal discharge</th>\n      <th>oral lesions</th>\n      <th>...</th>\n      <th>mounting others</th>\n      <th>restlessness</th>\n      <th>swelling of head and neck</th>\n      <th>inflammation of the eyes</th>\n      <th>swelling in mouth</th>\n      <th>ulcers in mouth</th>\n      <th>tiredness</th>\n      <th>grinding teeth</th>\n      <th>dark coloured urine</th>\n      <th>anorexia</th>\n    </tr>\n  </thead>\n  <tbody>\n    <tr>\n      <th>0</th>\n      <td>bloat</td>\n      <td>0.0</td>\n      <td>0.0</td>\n      <td>0.0</td>\n      <td>0.0</td>\n      <td>0.0</td>\n      <td>0.0</td>\n      <td>0.0</td>\n      <td>0.0</td>\n      <td>0.0</td>\n      <td>...</td>\n      <td>0.0</td>\n      <td>0.0</td>\n      <td>0.0</td>\n      <td>0.0</td>\n      <td>0.0</td>\n      <td>0.0</td>\n      <td>0.0</td>\n      <td>0.0</td>\n      <td>0.0</td>\n      <td>0.0</td>\n    </tr>\n    <tr>\n      <th>1</th>\n      <td>bloat</td>\n      <td>0.0</td>\n      <td>0.0</td>\n      <td>0.0</td>\n      <td>0.0</td>\n      <td>0.0</td>\n      <td>0.0</td>\n      <td>0.0</td>\n      <td>0.0</td>\n      <td>0.0</td>\n      <td>...</td>\n      <td>0.0</td>\n      <td>0.0</td>\n      <td>0.0</td>\n      <td>0.0</td>\n      <td>0.0</td>\n      <td>0.0</td>\n      <td>0.0</td>\n      <td>0.0</td>\n      <td>0.0</td>\n      <td>0.0</td>\n    </tr>\n    <tr>\n      <th>2</th>\n      <td>bloat</td>\n      <td>0.0</td>\n      <td>0.0</td>\n      <td>0.0</td>\n      <td>1.0</td>\n      <td>0.0</td>\n      <td>0.0</td>\n      <td>0.0</td>\n      <td>0.0</td>\n      <td>0.0</td>\n      <td>...</td>\n      <td>0.0</td>\n      <td>0.0</td>\n      <td>0.0</td>\n      <td>0.0</td>\n      <td>0.0</td>\n      <td>0.0</td>\n      <td>0.0</td>\n      <td>0.0</td>\n      <td>0.0</td>\n      <td>0.0</td>\n    </tr>\n    <tr>\n      <th>3</th>\n      <td>bovine viral diarrhea BVD</td>\n      <td>0.0</td>\n      <td>0.0</td>\n      <td>0.0</td>\n      <td>0.0</td>\n      <td>0.0</td>\n      <td>0.0</td>\n      <td>0.0</td>\n      <td>0.0</td>\n      <td>0.0</td>\n      <td>...</td>\n      <td>0.0</td>\n      <td>0.0</td>\n      <td>0.0</td>\n      <td>0.0</td>\n      <td>0.0</td>\n      <td>0.0</td>\n      <td>0.0</td>\n      <td>0.0</td>\n      <td>0.0</td>\n      <td>0.0</td>\n    </tr>\n    <tr>\n      <th>4</th>\n      <td>bovine viral diarrhea BVD</td>\n      <td>0.0</td>\n      <td>0.0</td>\n      <td>0.0</td>\n      <td>0.0</td>\n      <td>0.0</td>\n      <td>0.0</td>\n      <td>0.0</td>\n      <td>0.0</td>\n      <td>0.0</td>\n      <td>...</td>\n      <td>0.0</td>\n      <td>0.0</td>\n      <td>0.0</td>\n      <td>0.0</td>\n      <td>0.0</td>\n      <td>0.0</td>\n      <td>0.0</td>\n      <td>0.0</td>\n      <td>0.0</td>\n      <td>0.0</td>\n    </tr>\n  </tbody>\n</table>\n<p>5 rows × 69 columns</p>\n</div>"
     },
     "metadata": {},
     "execution_count": 17
    }
   ],
   "source": [
    "df_concat.head()"
   ]
  },
  {
   "cell_type": "code",
   "execution_count": 18,
   "metadata": {},
   "outputs": [
    {
     "output_type": "execute_result",
     "data": {
      "text/plain": [
       "95"
      ]
     },
     "metadata": {},
     "execution_count": 18
    }
   ],
   "source": [
    "len(df_concat)"
   ]
  },
  {
   "cell_type": "code",
   "execution_count": 19,
   "metadata": {},
   "outputs": [
    {
     "output_type": "execute_result",
     "data": {
      "text/plain": [
       "Index(['disease', 'distended left abdomen', 'discomfort', 'bellowing', 'fever',\n",
       "       'lethargy', 'loss of appetite', 'ocular discharge', 'nasal discharge',\n",
       "       'oral lesions', 'diarrhea', 'decreasing milk production', 'abortion',\n",
       "       'stillborn', 'weak calf', 'retention of fetal membrane',\n",
       "       'swollen testicles', 'lesions on skin', 'bold plaques',\n",
       "       'tufts of hair coming off', 'blisters in the mouth', 'blisters on feet',\n",
       "       'weight loss', 'frothing of mouth', 'lameness', 'late abortion',\n",
       "       'jaundice', 'depressed appetite', 'reduced fertility', 'rubbing',\n",
       "       'hair loss', 'biting', 'scratching', 'depression',\n",
       "       'lack of coordination', 'isolation from herd', 'salivation',\n",
       "       'facial paralysis', 'blood poisoning', 'anaemia',\n",
       "       'reduced live weight gain', 'swelling in udders', 'hardness of udders',\n",
       "       'redness or pain in udders', 'watery milk', 'clots in milk',\n",
       "       'reduction in mobility', 'stillbirth', 'coughing', 'pus from nose',\n",
       "       'progressive loss of condition', 'suspended rumination',\n",
       "       'rapid heart rates', 'difficulty breathing', 'crepitation swelling',\n",
       "       'painful swelling', 'painless swelling', 'prostration',\n",
       "       'strange behaviour', 'mounting others', 'restlessness',\n",
       "       'swelling of head and neck', 'inflammation of the eyes',\n",
       "       'swelling in mouth', 'ulcers in mouth', 'tiredness', 'grinding teeth',\n",
       "       'dark coloured urine', 'anorexia'],\n",
       "      dtype='object')"
      ]
     },
     "metadata": {},
     "execution_count": 19
    }
   ],
   "source": [
    "cols = df_concat.columns\n",
    "cols"
   ]
  },
  {
   "cell_type": "code",
   "execution_count": 20,
   "metadata": {},
   "outputs": [
    {
     "output_type": "execute_result",
     "data": {
      "text/plain": [
       "Index(['distended left abdomen', 'discomfort', 'bellowing', 'fever',\n",
       "       'lethargy', 'loss of appetite', 'ocular discharge', 'nasal discharge',\n",
       "       'oral lesions', 'diarrhea', 'decreasing milk production', 'abortion',\n",
       "       'stillborn', 'weak calf', 'retention of fetal membrane',\n",
       "       'swollen testicles', 'lesions on skin', 'bold plaques',\n",
       "       'tufts of hair coming off', 'blisters in the mouth', 'blisters on feet',\n",
       "       'weight loss', 'frothing of mouth', 'lameness', 'late abortion',\n",
       "       'jaundice', 'depressed appetite', 'reduced fertility', 'rubbing',\n",
       "       'hair loss', 'biting', 'scratching', 'depression',\n",
       "       'lack of coordination', 'isolation from herd', 'salivation',\n",
       "       'facial paralysis', 'blood poisoning', 'anaemia',\n",
       "       'reduced live weight gain', 'swelling in udders', 'hardness of udders',\n",
       "       'redness or pain in udders', 'watery milk', 'clots in milk',\n",
       "       'reduction in mobility', 'stillbirth', 'coughing', 'pus from nose',\n",
       "       'progressive loss of condition', 'suspended rumination',\n",
       "       'rapid heart rates', 'difficulty breathing', 'crepitation swelling',\n",
       "       'painful swelling', 'painless swelling', 'prostration',\n",
       "       'strange behaviour', 'mounting others', 'restlessness',\n",
       "       'swelling of head and neck', 'inflammation of the eyes',\n",
       "       'swelling in mouth', 'ulcers in mouth', 'tiredness', 'grinding teeth',\n",
       "       'dark coloured urine', 'anorexia'],\n",
       "      dtype='object')"
      ]
     },
     "metadata": {},
     "execution_count": 20
    }
   ],
   "source": [
    "cols = cols[1:]\n",
    "cols"
   ]
  },
  {
   "cell_type": "code",
   "execution_count": 21,
   "metadata": {},
   "outputs": [
    {
     "output_type": "execute_result",
     "data": {
      "text/plain": [
       "   label                         disease  distended left abdomen  discomfort  \\\n",
       "0      0                        blackleg                     0.0         0.0   \n",
       "1      1                           bloat                     0.0         0.0   \n",
       "2      2                     blue tongue                     0.0         0.0   \n",
       "3      3  bovine babesiosis (tick fever)                     0.0         0.0   \n",
       "4      4       bovine viral diarrhea BVD                     0.0         0.0   \n",
       "\n",
       "   bellowing  fever  lethargy  loss of appetite  ocular discharge  \\\n",
       "0        0.0    0.0       0.0               0.0               0.0   \n",
       "1        0.0    1.0       0.0               0.0               0.0   \n",
       "2        0.0    0.0       0.0               0.0               0.0   \n",
       "3        1.0    0.0       0.0               0.0               0.0   \n",
       "4        0.0    0.0       0.0               0.0               0.0   \n",
       "\n",
       "   nasal discharge  ...  mounting others  restlessness  \\\n",
       "0              0.0  ...              0.0           0.0   \n",
       "1              0.0  ...              0.0           0.0   \n",
       "2              0.0  ...              1.0           1.0   \n",
       "3              0.0  ...              0.0           0.0   \n",
       "4              0.0  ...              0.0           0.0   \n",
       "\n",
       "   swelling of head and neck  inflammation of the eyes  swelling in mouth  \\\n",
       "0                        0.0                       0.0                0.0   \n",
       "1                        0.0                       0.0                0.0   \n",
       "2                        1.0                       0.0                1.0   \n",
       "3                        0.0                       0.0                0.0   \n",
       "4                        0.0                       0.0                0.0   \n",
       "\n",
       "   ulcers in mouth  tiredness  grinding teeth  dark coloured urine  anorexia  \n",
       "0              0.0        0.0             0.0                  0.0       0.0  \n",
       "1              0.0        0.0             0.0                  0.0       0.0  \n",
       "2              0.0        1.0             0.0                  0.0       0.0  \n",
       "3              0.0        0.0             0.0                  0.0       0.0  \n",
       "4              0.0        0.0             0.0                  0.0       0.0  \n",
       "\n",
       "[5 rows x 70 columns]"
      ],
      "text/html": "<div>\n<style scoped>\n    .dataframe tbody tr th:only-of-type {\n        vertical-align: middle;\n    }\n\n    .dataframe tbody tr th {\n        vertical-align: top;\n    }\n\n    .dataframe thead th {\n        text-align: right;\n    }\n</style>\n<table border=\"1\" class=\"dataframe\">\n  <thead>\n    <tr style=\"text-align: right;\">\n      <th></th>\n      <th>label</th>\n      <th>disease</th>\n      <th>distended left abdomen</th>\n      <th>discomfort</th>\n      <th>bellowing</th>\n      <th>fever</th>\n      <th>lethargy</th>\n      <th>loss of appetite</th>\n      <th>ocular discharge</th>\n      <th>nasal discharge</th>\n      <th>...</th>\n      <th>mounting others</th>\n      <th>restlessness</th>\n      <th>swelling of head and neck</th>\n      <th>inflammation of the eyes</th>\n      <th>swelling in mouth</th>\n      <th>ulcers in mouth</th>\n      <th>tiredness</th>\n      <th>grinding teeth</th>\n      <th>dark coloured urine</th>\n      <th>anorexia</th>\n    </tr>\n  </thead>\n  <tbody>\n    <tr>\n      <th>0</th>\n      <td>0</td>\n      <td>blackleg</td>\n      <td>0.0</td>\n      <td>0.0</td>\n      <td>0.0</td>\n      <td>0.0</td>\n      <td>0.0</td>\n      <td>0.0</td>\n      <td>0.0</td>\n      <td>0.0</td>\n      <td>...</td>\n      <td>0.0</td>\n      <td>0.0</td>\n      <td>0.0</td>\n      <td>0.0</td>\n      <td>0.0</td>\n      <td>0.0</td>\n      <td>0.0</td>\n      <td>0.0</td>\n      <td>0.0</td>\n      <td>0.0</td>\n    </tr>\n    <tr>\n      <th>1</th>\n      <td>1</td>\n      <td>bloat</td>\n      <td>0.0</td>\n      <td>0.0</td>\n      <td>0.0</td>\n      <td>1.0</td>\n      <td>0.0</td>\n      <td>0.0</td>\n      <td>0.0</td>\n      <td>0.0</td>\n      <td>...</td>\n      <td>0.0</td>\n      <td>0.0</td>\n      <td>0.0</td>\n      <td>0.0</td>\n      <td>0.0</td>\n      <td>0.0</td>\n      <td>0.0</td>\n      <td>0.0</td>\n      <td>0.0</td>\n      <td>0.0</td>\n    </tr>\n    <tr>\n      <th>2</th>\n      <td>2</td>\n      <td>blue tongue</td>\n      <td>0.0</td>\n      <td>0.0</td>\n      <td>0.0</td>\n      <td>0.0</td>\n      <td>0.0</td>\n      <td>0.0</td>\n      <td>0.0</td>\n      <td>0.0</td>\n      <td>...</td>\n      <td>1.0</td>\n      <td>1.0</td>\n      <td>1.0</td>\n      <td>0.0</td>\n      <td>1.0</td>\n      <td>0.0</td>\n      <td>1.0</td>\n      <td>0.0</td>\n      <td>0.0</td>\n      <td>0.0</td>\n    </tr>\n    <tr>\n      <th>3</th>\n      <td>3</td>\n      <td>bovine babesiosis (tick fever)</td>\n      <td>0.0</td>\n      <td>0.0</td>\n      <td>1.0</td>\n      <td>0.0</td>\n      <td>0.0</td>\n      <td>0.0</td>\n      <td>0.0</td>\n      <td>0.0</td>\n      <td>...</td>\n      <td>0.0</td>\n      <td>0.0</td>\n      <td>0.0</td>\n      <td>0.0</td>\n      <td>0.0</td>\n      <td>0.0</td>\n      <td>0.0</td>\n      <td>0.0</td>\n      <td>0.0</td>\n      <td>0.0</td>\n    </tr>\n    <tr>\n      <th>4</th>\n      <td>4</td>\n      <td>bovine viral diarrhea BVD</td>\n      <td>0.0</td>\n      <td>0.0</td>\n      <td>0.0</td>\n      <td>0.0</td>\n      <td>0.0</td>\n      <td>0.0</td>\n      <td>0.0</td>\n      <td>0.0</td>\n      <td>...</td>\n      <td>0.0</td>\n      <td>0.0</td>\n      <td>0.0</td>\n      <td>0.0</td>\n      <td>0.0</td>\n      <td>0.0</td>\n      <td>0.0</td>\n      <td>0.0</td>\n      <td>0.0</td>\n      <td>0.0</td>\n    </tr>\n  </tbody>\n</table>\n<p>5 rows × 70 columns</p>\n</div>"
     },
     "metadata": {},
     "execution_count": 21
    }
   ],
   "source": [
    "df_concat = df_concat.groupby('disease').sum()\n",
    "df_concat = df_concat.reset_index()\n",
    "num_lables = le.fit_transform(df_concat['disease'])\n",
    "df_num_lables = pd.DataFrame(num_lables)\n",
    "df_num_lables.columns = ['label']\n",
    "df_concat = pd.concat([df_num_lables,df_concat], axis=1)\n",
    "df_concat[:5]"
   ]
  },
  {
   "cell_type": "code",
   "execution_count": 22,
   "metadata": {},
   "outputs": [],
   "source": [
    "df_concat.to_csv(\"final_data.csv\", index=False)"
   ]
  },
  {
   "cell_type": "code",
   "execution_count": 23,
   "metadata": {},
   "outputs": [
    {
     "output_type": "execute_result",
     "data": {
      "text/plain": [
       "18"
      ]
     },
     "metadata": {},
     "execution_count": 23
    }
   ],
   "source": [
    "len(df_concat)"
   ]
  },
  {
   "cell_type": "code",
   "execution_count": 24,
   "metadata": {},
   "outputs": [],
   "source": [
    "X = df_concat[cols]\n",
    "y = df_concat['disease']\n"
   ]
  },
  {
   "cell_type": "code",
   "execution_count": 25,
   "metadata": {},
   "outputs": [],
   "source": [
    "X_train, X_test, y_train, y_test = train_test_split(X, y, test_size=0.33, random_state=66)"
   ]
  },
  {
   "cell_type": "code",
   "execution_count": 26,
   "metadata": {},
   "outputs": [
    {
     "output_type": "execute_result",
     "data": {
      "text/plain": [
       "(12, 12)"
      ]
     },
     "metadata": {},
     "execution_count": 26
    }
   ],
   "source": [
    "len(X_train), len(y_train)"
   ]
  },
  {
   "cell_type": "code",
   "execution_count": 27,
   "metadata": {},
   "outputs": [
    {
     "output_type": "execute_result",
     "data": {
      "text/plain": [
       "(6, 6)"
      ]
     },
     "metadata": {},
     "execution_count": 27
    }
   ],
   "source": [
    "len(X_test), len(y_test)"
   ]
  },
  {
   "cell_type": "code",
   "execution_count": 28,
   "metadata": {},
   "outputs": [],
   "source": [
    "dt = DecisionTreeClassifier()\n",
    "rf = RandomForestClassifier()\n",
    "# clf_dt = dt.fit(X, y)\n",
    "clf_dt = rf.fit(X, y)"
   ]
  },
  {
   "cell_type": "code",
   "execution_count": 29,
   "metadata": {},
   "outputs": [],
   "source": [
    "# export_graphviz(dt, out_file='./tree.dot', feature_names=cols)"
   ]
  },
  {
   "cell_type": "code",
   "execution_count": 30,
   "metadata": {},
   "outputs": [],
   "source": [
    "# from graphviz import Source\n",
    "\n",
    "# graph = Source(export_graphviz(dt, out_file=None, feature_names=cols))\n",
    "# png_bytes = graph.pipe(format='png')\n",
    "\n",
    "# with open('tree.png', 'wb') as f:\n",
    "    # f.write(png_bytes)"
   ]
  },
  {
   "cell_type": "code",
   "execution_count": 31,
   "metadata": {},
   "outputs": [],
   "source": [
    "disease_pred = clf_dt.predict(X_test)"
   ]
  },
  {
   "cell_type": "code",
   "execution_count": 32,
   "metadata": {},
   "outputs": [],
   "source": [
    "disease_real = y_test.values"
   ]
  },
  {
   "cell_type": "code",
   "execution_count": 39,
   "metadata": {},
   "outputs": [
    {
     "output_type": "stream",
     "name": "stdout",
     "text": [
      "1.0\n"
     ]
    }
   ],
   "source": [
    "print(metrics.accuracy_score(y_test, disease_pred))"
   ]
  },
  {
   "cell_type": "code",
   "execution_count": 107,
   "metadata": {},
   "outputs": [
    {
     "output_type": "stream",
     "name": "stdout",
     "text": [
      "Pred: bloat Actual: bloat \nPred: neosporosis Actual: neosporosis \nPred: bovine viral diarrhea BVD Actual: bovine viral diarrhea BVD \nPred: tuberculosis Actual: tuberculosis \nPred: foot and mouth disease Actual: foot and mouth disease \nPred: leptospirosis Actual: leptospirosis \n"
     ]
    }
   ],
   "source": [
    "for i in range(0, len(disease_real)):\n",
    "    if disease_pred[i] == disease_real[i]:\n",
    "        print('Pred: {0} Actual: {1} '. format(disease_pred[i], disease_real[i]))"
   ]
  },
  {
   "cell_type": "code",
   "execution_count": 108,
   "metadata": {},
   "outputs": [],
   "source": [
    "import joblib"
   ]
  },
  {
   "cell_type": "code",
   "execution_count": 109,
   "metadata": {},
   "outputs": [
    {
     "output_type": "execute_result",
     "data": {
      "text/plain": [
       "['animals.sav']"
      ]
     },
     "metadata": {},
     "execution_count": 109
    }
   ],
   "source": [
    "joblib.dump(clf_dt, 'animals.sav')"
   ]
  },
  {
   "cell_type": "code",
   "execution_count": 110,
   "metadata": {},
   "outputs": [],
   "source": [
    "modela = joblib.load('animals.sav')"
   ]
  },
  {
   "cell_type": "code",
   "execution_count": 111,
   "metadata": {},
   "outputs": [
    {
     "output_type": "execute_result",
     "data": {
      "text/plain": [
       "array(['bloat', 'neosporosis', 'bovine viral diarrhea BVD',\n",
       "       'tuberculosis', 'foot and mouth disease', 'leptospirosis'],\n",
       "      dtype=object)"
      ]
     },
     "metadata": {},
     "execution_count": 111
    }
   ],
   "source": [
    "modela.predict(X_test)"
   ]
  },
  {
   "cell_type": "code",
   "execution_count": null,
   "metadata": {},
   "outputs": [],
   "source": []
  }
 ],
 "metadata": {
  "kernelspec": {
   "display_name": "Python 3",
   "language": "python",
   "name": "python3"
  },
  "language_info": {
   "codemirror_mode": {
    "name": "ipython",
    "version": 3
   },
   "file_extension": ".py",
   "mimetype": "text/x-python",
   "name": "python",
   "nbconvert_exporter": "python",
   "pygments_lexer": "ipython3",
   "version": "3.8.2-final"
  }
 },
 "nbformat": 4,
 "nbformat_minor": 4
}